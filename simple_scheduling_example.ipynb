{
 "cells": [
  {
   "cell_type": "code",
   "execution_count": 1,
   "metadata": {},
   "outputs": [],
   "source": [
    "from ortools.sat.python import cp_model"
   ]
  },
  {
   "cell_type": "code",
   "execution_count": null,
   "metadata": {},
   "outputs": [],
   "source": [
    "# constraint programming doesn't need to have an optimal solution it just narrows down solution space to a feasible set"
   ]
  },
  {
   "cell_type": "code",
   "execution_count": 2,
   "metadata": {},
   "outputs": [],
   "source": [
    "model = cp_model.CpModel()\n",
    "# declare empty list that will be used for storing indices of worker-shift-day combinations\n",
    "shiftoptions = {}\n",
    "\n",
    "#set number of workers, days, and schedules, as well as max sechudles per day\n",
    "workers = 5\n",
    "shifts = 3\n",
    "days = 7\n",
    "maxshiftsperday = 1\n",
    "maxdifference = 1\n"
   ]
  },
  {
   "cell_type": "code",
   "execution_count": null,
   "metadata": {},
   "outputs": [],
   "source": []
  }
 ],
 "metadata": {
  "kernelspec": {
   "display_name": "Python 3.10.5 ('webscraping')",
   "language": "python",
   "name": "python3"
  },
  "language_info": {
   "codemirror_mode": {
    "name": "ipython",
    "version": 3
   },
   "file_extension": ".py",
   "mimetype": "text/x-python",
   "name": "python",
   "nbconvert_exporter": "python",
   "pygments_lexer": "ipython3",
   "version": "3.10.5"
  },
  "orig_nbformat": 4,
  "vscode": {
   "interpreter": {
    "hash": "7a41dcd05efbd48bfcdfd7713256c5cd3709418c0a4fdd82ffc128e928590378"
   }
  }
 },
 "nbformat": 4,
 "nbformat_minor": 2
}
