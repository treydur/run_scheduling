{
 "cells": [
  {
   "cell_type": "markdown",
   "metadata": {},
   "source": [
    "# Runnning Workout Scheduler"
   ]
  },
  {
   "cell_type": "markdown",
   "metadata": {},
   "source": [
    "## Imports"
   ]
  },
  {
   "cell_type": "code",
   "execution_count": 49,
   "metadata": {},
   "outputs": [],
   "source": [
    "from ortools.sat.python import cp_model\n",
    "import math"
   ]
  },
  {
   "cell_type": "markdown",
   "metadata": {},
   "source": [
    "## Create Variables"
   ]
  },
  {
   "cell_type": "code",
   "execution_count": 50,
   "metadata": {},
   "outputs": [],
   "source": [
    "cycle = 3\n",
    "day = 10\n",
    "session = ['e', 'THRESH', 'LR', 'rest', f'e \\t hill', f'e \\t strides']\n",
    "all_days = range(day)\n",
    "all_cycles = range(cycle)\n",
    "all_sessions = range(len(session))\n",
    "workoutList = [1,2]"
   ]
  },
  {
   "cell_type": "code",
   "execution_count": 51,
   "metadata": {},
   "outputs": [],
   "source": [
    "model = cp_model.CpModel()"
   ]
  },
  {
   "cell_type": "code",
   "execution_count": 52,
   "metadata": {},
   "outputs": [],
   "source": [
    "calendar = {}\n",
    "for c in all_cycles:\n",
    "    for d in all_days:\n",
    "        for s in all_sessions:\n",
    "            calendar[(c, d, s)] = model.NewBoolVar(f'cycle{c}day{d}session{s}')\n",
    "\n",
    "# print(len(calendar))"
   ]
  },
  {
   "cell_type": "markdown",
   "metadata": {},
   "source": [
    "## Utility Methods"
   ]
  },
  {
   "cell_type": "code",
   "execution_count": 53,
   "metadata": {},
   "outputs": [],
   "source": [
    "def next_day(calendar_tuple, change):\n",
    "    (c, d, s) = calendar_tuple\n",
    "    if d + change < day:\n",
    "        return (c, d + 1, s)\n",
    "    else:\n",
    "        (change, d) = divmod(d + change, day)\n",
    "        if (c + change < cycle):\n",
    "            return (c + change, d, s)\n",
    "    return calendar_tuple # if last day of last cycle return itself\n"
   ]
  },
  {
   "cell_type": "code",
   "execution_count": 54,
   "metadata": {},
   "outputs": [],
   "source": [
    "def prev_day(calendar_tuple, change):\n",
    "    # change: how many days you want to go back\n",
    "    (c, d, s) = calendar_tuple\n",
    "    if d - change >= 0:\n",
    "        return (c, d - change, s)\n",
    "    else:\n",
    "        change = d - change # definately negative\n",
    "        while (change < 0 and c - 1 >= 0):\n",
    "            change = day + change # decreases\n",
    "            c = c - 1 # go back a cycle\n",
    "        if c >= 0:\n",
    "            return (c, change, s)\n",
    "    return (0, 0, 0)"
   ]
  },
  {
   "cell_type": "code",
   "execution_count": 55,
   "metadata": {},
   "outputs": [],
   "source": [
    "def day_counter(calendar_tuple):\n",
    "    (c, d, s) = calendar_tuple\n",
    "    return (10 * c) + d"
   ]
  },
  {
   "cell_type": "code",
   "execution_count": 56,
   "metadata": {},
   "outputs": [],
   "source": [
    "def distance_btw_sessions(tuple1, tuple2):\n",
    "    (c1, d1, s1) = tuple1\n",
    "    (c2, d2, s2) = tuple2\n",
    "    if s1 != s2:\n",
    "        return None\n",
    "    else:\n",
    "        return abs(day_counter(tuple1) - day_counter(tuple2))"
   ]
  },
  {
   "cell_type": "code",
   "execution_count": 57,
   "metadata": {},
   "outputs": [],
   "source": [
    "def limit_num_sessions_per_cycle(session_value, lb, ub):\n",
    "    #Ex) I want 2 to 3 sessions per cycle in threshold\n",
    "    for c in all_cycles:\n",
    "        model.Add(sum(calendar[(c, d, session_value)] for d in all_days) <= ub)\n",
    "        model.Add(sum(calendar[(c, d, session_value)] for d in all_days) >= lb)"
   ]
  },
  {
   "cell_type": "code",
   "execution_count": 58,
   "metadata": {},
   "outputs": [],
   "source": [
    "def make_value_list(day):\n",
    "    length = day / 2\n",
    "    left = math.floor(length) \n",
    "    right = math.ceil(length)\n",
    "    shift = 1 if (left < right) else 0\n",
    "    left_list = list(reversed(range(left + shift)))\n",
    "    right_list = list(range(right))\n",
    "    return left_list + right_list\n",
    "\n",
    "# print(make_value_list(10))"
   ]
  },
  {
   "cell_type": "markdown",
   "metadata": {},
   "source": [
    "## Constraints"
   ]
  },
  {
   "cell_type": "code",
   "execution_count": 59,
   "metadata": {},
   "outputs": [],
   "source": [
    "# Each day must have a session\n",
    "for c in all_cycles:\n",
    "    for d in all_days:\n",
    "        model.Add(sum(calendar[(c, d, s)] for s in all_sessions) == 1)"
   ]
  },
  {
   "cell_type": "code",
   "execution_count": 60,
   "metadata": {},
   "outputs": [],
   "source": [
    "# You can't have two workouts on consecutive days\n",
    "for c in all_cycles:\n",
    "    for d in all_days:\n",
    "        model.Add(sum(calendar[(c, d, s)] + calendar[next_day((c, d, s), 1)] for s in workoutList) <= 1)\n",
    "        # Don't include 'rest' in workout list because allowed to have rest day after workout"
   ]
  },
  {
   "cell_type": "code",
   "execution_count": 61,
   "metadata": {},
   "outputs": [],
   "source": [
    "# You can't have workout after a rest day or a rest day after a rest day\n",
    "# in this way a rest day behaves the same way as a workout\n",
    "# except you are allowed to have a rest day after a workout\n",
    "rList = [3] + workoutList\n",
    "for c in all_cycles:\n",
    "    for d in all_days:\n",
    "        model.AddAtMostOne([calendar[(c, d, 3)]] + [calendar[next_day((c, d, r), 1)] for r in rList])\n"
   ]
  },
  {
   "cell_type": "code",
   "execution_count": 62,
   "metadata": {},
   "outputs": [],
   "source": [
    "limit_num_sessions_per_cycle(1, 3, 4) #THRESH\n",
    "limit_num_sessions_per_cycle(2, 1, 1) #LR\n",
    "limit_num_sessions_per_cycle(3, 1, 1) #REST #Can't restict to one if set rest to happen every 5 days\n",
    "limit_num_sessions_per_cycle(4, 1, 2) #Easy and hills\n",
    "limit_num_sessions_per_cycle(5, 1, 3) #Easy and Strides"
   ]
  },
  {
   "cell_type": "code",
   "execution_count": 63,
   "metadata": {},
   "outputs": [],
   "source": [
    "# Maximize the space between e + hill days\n",
    "# value = make_value_list(day)\n",
    "# for c in all_cycles:\n",
    "#     model.Maximize(sum(calendar[(c, d, 4)] * value[d] for d in all_days))\n",
    "#     model.Maximize(sum(calendar[(c, d, 5)] * value[d] for d in all_days))"
   ]
  },
  {
   "cell_type": "code",
   "execution_count": 64,
   "metadata": {},
   "outputs": [],
   "source": [
    "# maximize num of workouts\n",
    "# for c in all_cycles:\n",
    "#     for d in all_days:\n",
    "#         model.Maximize(sum(calendar[(c, d, w)] for w in workoutList))"
   ]
  },
  {
   "cell_type": "code",
   "execution_count": 65,
   "metadata": {},
   "outputs": [],
   "source": [
    "# minimize num of easy runs\n",
    "# for c in all_cycles:\n",
    "#     model.Minimize(sum(calendar[(c, d, 0)] for d in all_days))"
   ]
  },
  {
   "cell_type": "markdown",
   "metadata": {},
   "source": [
    "### Decision Strategy"
   ]
  },
  {
   "cell_type": "code",
   "execution_count": 66,
   "metadata": {},
   "outputs": [],
   "source": [
    "#Add decision strategy: Choose all the Rest Days first\n",
    "imp_days = []\n",
    "for c in all_cycles:\n",
    "    for d in all_days:\n",
    "        for s in [3]:\n",
    "            imp_days.append(calendar.get((c, d, s)))\n",
    "\n",
    "model.AddDecisionStrategy(imp_days, cp_model.CHOOSE_FIRST, cp_model.SELECT_MAX_VALUE)"
   ]
  },
  {
   "cell_type": "markdown",
   "metadata": {},
   "source": [
    "### Objective"
   ]
  },
  {
   "cell_type": "code",
   "execution_count": 67,
   "metadata": {},
   "outputs": [],
   "source": [
    "#Maximize a cycle's value based on the types of sessions and what day they fall on and the parity of the cycle\n",
    "score = []\n",
    "score2 = []\n",
    "for c in all_cycles:\n",
    "    for d in all_days:\n",
    "        score.append((c, d, 2)) #LR\n",
    "        score2.append((c, d, 3)) #Rest\n",
    "\n",
    "model.Maximize(sum((day_counter(s) % day) * calendar[s] for s in score)) # Maximize LR to be later in a cycle\n",
    "model.Maximize(sum((day - (day_counter(s) % day)) * calendar[s] for s in score2)) # Maximize Rest to be towards beg of cycle\n"
   ]
  },
  {
   "cell_type": "markdown",
   "metadata": {},
   "source": [
    "## Solver"
   ]
  },
  {
   "cell_type": "markdown",
   "metadata": {},
   "source": [
    "### Solver parameters"
   ]
  },
  {
   "cell_type": "code",
   "execution_count": 68,
   "metadata": {},
   "outputs": [],
   "source": [
    "solver = cp_model.CpSolver()\n",
    "solver.parameters.linearization_level = 1000 #When I increase this value for larger cycles I notice less clustering\n",
    "solver.parameters.search_branching = cp_model.FIXED_SEARCH # follow decision strategy exactly\n",
    "solver.parameters.enumerate_all_solutions = True\n",
    "# solver.parameters.linearization_level = 0\n",
    "# solver.parameters.search_branching = 5\n",
    "# solver.parameters.search_branching = cp_model.PORTFOLIO_SEARCH\n",
    "# solver.max_sat_reverse_assumption_order = 0"
   ]
  },
  {
   "cell_type": "code",
   "execution_count": 69,
   "metadata": {},
   "outputs": [],
   "source": [
    "# Register solutions callback\n",
    "class RunPartialSolutionPrinter(cp_model.CpSolverSolutionCallback):\n",
    "    def __init__(self, calendar, day, cycle, session, solution_limit):\n",
    "        cp_model.CpSolverSolutionCallback.__init__(self)\n",
    "        self._calendar = calendar\n",
    "        self._day = day\n",
    "        self._cycle = cycle\n",
    "        self._session = session\n",
    "        self._solution_count = 0\n",
    "        self._solution_limit = solution_limit\n",
    "    \n",
    "    def on_solution_callback(self):\n",
    "        self._solution_count += 1\n",
    "        for c in range(self._cycle):\n",
    "            print(f'cycle:{c}')\n",
    "            for d in range(self._day): \n",
    "                for s in range(len(self._session)):\n",
    "                    if self.Value(self._calendar[(c, d, s)]):\n",
    "                        print(f'\\t day:{(d):<5d} {self._session[s]}')\n",
    "        if self._solution_count >= self._solution_limit:\n",
    "            print(f'solution limit reached {self._solution_count}')\n",
    "            self.StopSearch()\n",
    "\n",
    "    def solution_count(self):\n",
    "        return self._solution_count"
   ]
  },
  {
   "cell_type": "code",
   "execution_count": 70,
   "metadata": {},
   "outputs": [],
   "source": [
    "solution_limit = 1\n",
    "callback = RunPartialSolutionPrinter(calendar, day, cycle, session, solution_limit)"
   ]
  },
  {
   "cell_type": "code",
   "execution_count": 71,
   "metadata": {},
   "outputs": [
    {
     "name": "stdout",
     "output_type": "stream",
     "text": [
      "cycle:0\n",
      "\t day:0     rest\n",
      "\t day:1     e \t strides\n",
      "\t day:2     e \t strides\n",
      "\t day:3     LR\n",
      "\t day:4     e \t strides\n",
      "\t day:5     THRESH\n",
      "\t day:6     e \t hill\n",
      "\t day:7     THRESH\n",
      "\t day:8     e \t hill\n",
      "\t day:9     THRESH\n",
      "cycle:1\n",
      "\t day:0     rest\n",
      "\t day:1     e \t strides\n",
      "\t day:2     e \t strides\n",
      "\t day:3     LR\n",
      "\t day:4     e \t strides\n",
      "\t day:5     THRESH\n",
      "\t day:6     e \t hill\n",
      "\t day:7     THRESH\n",
      "\t day:8     e \t hill\n",
      "\t day:9     THRESH\n",
      "cycle:2\n",
      "\t day:0     rest\n",
      "\t day:1     e \t strides\n",
      "\t day:2     LR\n",
      "\t day:3     e \t strides\n",
      "\t day:4     THRESH\n",
      "\t day:5     e \t strides\n",
      "\t day:6     THRESH\n",
      "\t day:7     e \t hill\n",
      "\t day:8     THRESH\n",
      "\t day:9     e \t hill\n",
      "solution limit reached 1\n"
     ]
    }
   ],
   "source": [
    "\n",
    "status = solver.Solve(model, callback)"
   ]
  },
  {
   "cell_type": "code",
   "execution_count": 72,
   "metadata": {},
   "outputs": [
    {
     "name": "stdout",
     "output_type": "stream",
     "text": [
      "CpSolverResponse summary:\n",
      "status: OPTIMAL\n",
      "objective: 30\n",
      "best_bound: 30\n",
      "booleans: 180\n",
      "conflicts: 9\n",
      "branches: 428\n",
      "propagations: 1872\n",
      "integer_propagations: 2282\n",
      "restarts: 355\n",
      "lp_iterations: 115\n",
      "walltime: 0.0424932\n",
      "usertime: 0.0424934\n",
      "deterministic_time: 0.00133214\n",
      "gap_integral: 0.00373362\n",
      "\n"
     ]
    }
   ],
   "source": [
    "# solver.StatusName()\n",
    "print(solver.ResponseStats())\n",
    "# print(model.ModelStats())"
   ]
  }
 ],
 "metadata": {
  "kernelspec": {
   "display_name": "Python 3.10.5 ('webscraping')",
   "language": "python",
   "name": "python3"
  },
  "language_info": {
   "codemirror_mode": {
    "name": "ipython",
    "version": 3
   },
   "file_extension": ".py",
   "mimetype": "text/x-python",
   "name": "python",
   "nbconvert_exporter": "python",
   "pygments_lexer": "ipython3",
   "version": "3.10.5"
  },
  "orig_nbformat": 4,
  "vscode": {
   "interpreter": {
    "hash": "7a41dcd05efbd48bfcdfd7713256c5cd3709418c0a4fdd82ffc128e928590378"
   }
  }
 },
 "nbformat": 4,
 "nbformat_minor": 2
}
