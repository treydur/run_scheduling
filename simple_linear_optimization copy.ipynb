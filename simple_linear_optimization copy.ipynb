{
 "cells": [
  {
   "cell_type": "code",
   "execution_count": 24,
   "metadata": {},
   "outputs": [],
   "source": [
    "from ortools.linear_solver import pywraplp\n"
   ]
  },
  {
   "cell_type": "code",
   "execution_count": 25,
   "metadata": {},
   "outputs": [],
   "source": [
    "# Create solver instance\n",
    "solver = pywraplp.Solver.CreateSolver('GLOP')"
   ]
  },
  {
   "cell_type": "code",
   "execution_count": 26,
   "metadata": {},
   "outputs": [],
   "source": [
    "# Declare relevant optimization variables\n",
    "# declares a variable x with lower bound 0 and no upper bound\n",
    "x = solver.NumVar(0, solver.infinity(), \"x\")\n",
    "y = solver.NumVar(0, solver.infinity(), \"y\")\n",
    "z = solver.NumVar(0, solver.infinity(), \"z\")"
   ]
  },
  {
   "cell_type": "code",
   "execution_count": 27,
   "metadata": {},
   "outputs": [
    {
     "data": {
      "text/plain": [
       "<ortools.linear_solver.pywraplp.Constraint; proxy of <Swig Object of type 'operations_research::MPConstraint *' at 0x0000021BE1B16070> >"
      ]
     },
     "execution_count": 27,
     "metadata": {},
     "output_type": "execute_result"
    }
   ],
   "source": [
    "# maximize this expression (objective function)\n",
    "solver.Maximize(x+2*y+3*z)\n",
    "# add constraints\n",
    "solver.Add(2*x+y+z <= 20)\n",
    "solver.Add(x+y+z <= 15)\n",
    "solver.Add(x-y-z >= 0)\n",
    "# solver.Add(x + y == 5)\n",
    "# solver.Add(x + y == 6)"
   ]
  },
  {
   "cell_type": "code",
   "execution_count": 28,
   "metadata": {},
   "outputs": [
    {
     "data": {
      "text/plain": [
       "0"
      ]
     },
     "execution_count": 28,
     "metadata": {},
     "output_type": "execute_result"
    }
   ],
   "source": [
    "# Model is complete so can solve the problem\n",
    "solver.Solve()\n",
    "# return 0 worked\n",
    "# return 2 ???\n"
   ]
  },
  {
   "cell_type": "code",
   "execution_count": 29,
   "metadata": {},
   "outputs": [
    {
     "name": "stdout",
     "output_type": "stream",
     "text": [
      "x_opt 6.666666666666667\n",
      "y_opt 0.0\n",
      "z_opt 6.666666666666667\n"
     ]
    }
   ],
   "source": [
    "# see what the optimal solutions are for the variables\n",
    "print(\"x_opt\", x.solution_value())\n",
    "print(\"y_opt\", y.solution_value())\n",
    "print(\"z_opt\", z.solution_value())"
   ]
  },
  {
   "cell_type": "code",
   "execution_count": 30,
   "metadata": {},
   "outputs": [
    {
     "name": "stdout",
     "output_type": "stream",
     "text": [
      "optimal_value 26.666666666666668\n"
     ]
    }
   ],
   "source": [
    "# print the optimal value of the objective function\n",
    "optimal_value = x.solution_value() + 2*y.solution_value() + 3*z.solution_value()\n",
    "print('optimal_value', optimal_value)"
   ]
  },
  {
   "cell_type": "markdown",
   "metadata": {},
   "source": [
    "The rest of this is just me trying out some of the method to see how stuff works"
   ]
  },
  {
   "cell_type": "code",
   "execution_count": 31,
   "metadata": {},
   "outputs": [
    {
     "data": {
      "text/plain": [
       "1"
      ]
     },
     "execution_count": 31,
     "metadata": {},
     "output_type": "execute_result"
    }
   ],
   "source": [
    "solver.iterations()"
   ]
  }
 ],
 "metadata": {
  "kernelspec": {
   "display_name": "Python 3.10.5 ('webscraping')",
   "language": "python",
   "name": "python3"
  },
  "language_info": {
   "codemirror_mode": {
    "name": "ipython",
    "version": 3
   },
   "file_extension": ".py",
   "mimetype": "text/x-python",
   "name": "python",
   "nbconvert_exporter": "python",
   "pygments_lexer": "ipython3",
   "version": "3.10.5"
  },
  "orig_nbformat": 4,
  "vscode": {
   "interpreter": {
    "hash": "7a41dcd05efbd48bfcdfd7713256c5cd3709418c0a4fdd82ffc128e928590378"
   }
  }
 },
 "nbformat": 4,
 "nbformat_minor": 2
}
