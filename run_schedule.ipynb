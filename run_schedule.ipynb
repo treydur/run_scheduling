{
 "cells": [
  {
   "cell_type": "code",
   "execution_count": 643,
   "metadata": {},
   "outputs": [],
   "source": [
    "from ortools.sat.python import cp_model"
   ]
  },
  {
   "cell_type": "code",
   "execution_count": 644,
   "metadata": {},
   "outputs": [],
   "source": [
    "microcycles = 2\n",
    "days = 10 # 10 days per microcyle\n",
    "workouts = ['Easy', 'Threshold', 'Rest', 'Long Run']\n",
    "all_days = range(days)\n",
    "all_workouts = range(len(workouts)) # get indices from workouts list\n",
    "all_microcycles = range(microcycles)\n",
    "# [print(a) for a in all_workouts]"
   ]
  },
  {
   "cell_type": "code",
   "execution_count": 645,
   "metadata": {},
   "outputs": [],
   "source": [
    "model = cp_model.CpModel()"
   ]
  },
  {
   "cell_type": "code",
   "execution_count": 646,
   "metadata": {},
   "outputs": [],
   "source": [
    "# create an array of variables\n",
    "run_schedule = {}\n",
    "for w in all_workouts:\n",
    "    for m in all_microcycles:\n",
    "        for d in all_days:\n",
    "            run_schedule[(w, m, d)] = model.NewBoolVar(f'w{w}m{m}d{d}')"
   ]
  },
  {
   "cell_type": "code",
   "execution_count": 647,
   "metadata": {},
   "outputs": [],
   "source": [
    "# Assign exactly one workout to each day\n",
    "for m in all_microcycles:\n",
    "    for d in all_days:\n",
    "        model.AddExactlyOne(run_schedule[(w, m, d)] for w in all_workouts)"
   ]
  },
  {
   "cell_type": "code",
   "execution_count": 648,
   "metadata": {},
   "outputs": [],
   "source": [
    "# Require 2-3 threshold sessions per microcycle\n",
    "max_threshold_per_micro = 3\n",
    "min_threshold_per_micro = 2\n",
    "for m in all_microcycles:\n",
    "    num_per_cycle = []\n",
    "    num_rest_per_cycle = []\n",
    "    num_long_run_per_cycle = []\n",
    "    for w in all_workouts:  \n",
    "        if workouts[w] == 'Threshold':\n",
    "            for d in all_days:\n",
    "                if d + 1 < days and d - 1 >= 0:\n",
    "                    model.AddImplication(run_schedule[(w, m, d)], run_schedule[(w, m, d + 1)].Not())\n",
    "                    model.AddImplication(run_schedule[(w, m, d)], run_schedule[(w, m, d - 1)].Not())\n",
    "                    # model.Add(run_schedule[(w, m, d)] != run_schedule[(w, m, d + 1)])\n",
    "                    # model.Add(run_schedule[(w, m, d)] != run_schedule[(w, m, d - 1)])\n",
    "                elif d - 1 < 0 and m - 1 >= 0:\n",
    "                    model.AddImplication(run_schedule[(w, m, d)], run_schedule[(w, m, d + 1)].Not())\n",
    "                    model.AddImplication(run_schedule[(w, m, d)], run_schedule[(w, m - 1, days - 1)].Not())\n",
    "                    # model.Add(run_schedule[(w, m, d)] != run_schedule[(w, m, d + 1)])\n",
    "                    # model.Add(run_schedule[(w, m, d)] != run_schedule[(w, m - 1, days - 1)])\n",
    "                elif d + 1 >= days and m + 1 < microcycles: \n",
    "                    model.AddImplication(run_schedule[(w, m, d)], run_schedule[(w, m + 1, 0)].Not())\n",
    "                    model.AddImplication(run_schedule[(w, m, d)], run_schedule[(w, m, d - 1)].Not())\n",
    "                    # model.Add(run_schedule[(w, m, d)] != run_schedule[(w, m + 1, 0)])\n",
    "                    # model.Add(run_schedule[(w, m, d)] != run_schedule[(w, m, d - 1)])\n",
    "                num_per_cycle.append(run_schedule[(w, m, d)]) #appends boolean 1's and 0's\n",
    "            model.Add(sum(num_per_cycle) <= max_threshold_per_micro)\n",
    "            model.Add(sum(num_per_cycle) >= min_threshold_per_micro)\n",
    "        elif workouts[w] == 'Rest':\n",
    "            for d in all_days:\n",
    "                num_rest_per_cycle.append(run_schedule[(w, m, d)])\n",
    "            model.Add(sum(num_rest_per_cycle) == 1)\n",
    "            if d + 1 < days:\n",
    "                model.Add(run_schedule[(0, m, d + 1)] == True).OnlyEnforceIf(run_schedule[(w, m, d)])\n",
    "                # model.Add(run_schedule[(p, m, d)] == False)\n",
    "        elif workouts[w] == 'Long Run':\n",
    "            for d in all_days:\n",
    "                num_long_run_per_cycle.append(run_schedule[(w, m, d)])\n",
    "            model.Add(sum(num_long_run_per_cycle) == 1)\n"
   ]
  },
  {
   "cell_type": "code",
   "execution_count": 649,
   "metadata": {},
   "outputs": [],
   "source": [
    "solver = cp_model.CpSolver()\n",
    "solver.parameters.linearization_level = 0\n",
    "# Enumerate all solutions.\n",
    "solver.parameters.enumerate_all_solutions = True"
   ]
  },
  {
   "cell_type": "code",
   "execution_count": 650,
   "metadata": {},
   "outputs": [],
   "source": [
    "# Register solutions callback\n",
    "class RunPartialSolutionPrinter(cp_model.CpSolverSolutionCallback):\n",
    "    def __init__(self, run_schedule, days, microcycles, workouts, solution_limit):\n",
    "        cp_model.CpSolverSolutionCallback.__init__(self)\n",
    "        self._run_schedule = run_schedule\n",
    "        self._days = days\n",
    "        self._microcycles = microcycles\n",
    "        self._workouts = workouts\n",
    "        self._solution_count = 0\n",
    "        self._solution_limit = solution_limit\n",
    "    \n",
    "    def on_solution_callback(self):\n",
    "        self._solution_count += 1\n",
    "        for m in range(self._microcycles):\n",
    "            print(f'm:{m+1}')\n",
    "            for d in range(self._days): \n",
    "                for w in range(len(self._workouts)):\n",
    "                    if self.Value(self._run_schedule[(w, m, d)]):\n",
    "                        print(f'day:{d+1} Workout: {self._workouts[w]}')\n",
    "        if self._solution_count >= self._solution_limit:\n",
    "            print(f'solution limit reached {self._solution_count}')\n",
    "            self.StopSearch()\n",
    "\n",
    "    def solution_count(self):\n",
    "        return self._solution_count"
   ]
  },
  {
   "cell_type": "code",
   "execution_count": 651,
   "metadata": {},
   "outputs": [],
   "source": [
    "solution_limit = 1\n",
    "callback = RunPartialSolutionPrinter(run_schedule, days, microcycles, workouts, solution_limit)"
   ]
  },
  {
   "cell_type": "code",
   "execution_count": 652,
   "metadata": {},
   "outputs": [
    {
     "name": "stdout",
     "output_type": "stream",
     "text": [
      "m:1\n",
      "day:1 Workout: Long Run\n",
      "day:2 Workout: Rest\n",
      "day:3 Workout: Threshold\n",
      "day:4 Workout: Easy\n",
      "day:5 Workout: Threshold\n",
      "day:6 Workout: Easy\n",
      "day:7 Workout: Easy\n",
      "day:8 Workout: Easy\n",
      "day:9 Workout: Easy\n",
      "day:10 Workout: Easy\n",
      "m:2\n",
      "day:1 Workout: Long Run\n",
      "day:2 Workout: Rest\n",
      "day:3 Workout: Threshold\n",
      "day:4 Workout: Easy\n",
      "day:5 Workout: Threshold\n",
      "day:6 Workout: Easy\n",
      "day:7 Workout: Easy\n",
      "day:8 Workout: Easy\n",
      "day:9 Workout: Easy\n",
      "day:10 Workout: Easy\n",
      "solution limit reached 1\n"
     ]
    }
   ],
   "source": [
    "status = solver.Solve(model, callback)\n",
    "# next constraint want easy day after rest day"
   ]
  },
  {
   "cell_type": "code",
   "execution_count": 653,
   "metadata": {},
   "outputs": [
    {
     "name": "stdout",
     "output_type": "stream",
     "text": [
      "CpSolverResponse summary:\n",
      "status: FEASIBLE\n",
      "objective: 0\n",
      "best_bound: 0\n",
      "booleans: 80\n",
      "conflicts: 2\n",
      "branches: 207\n",
      "propagations: 681\n",
      "integer_propagations: 158\n",
      "restarts: 161\n",
      "lp_iterations: 0\n",
      "walltime: 0.0117979\n",
      "usertime: 0.0117984\n",
      "deterministic_time: 0.00023218\n",
      "gap_integral: 0\n",
      "\n"
     ]
    }
   ],
   "source": [
    "# solver.StatusName()\n",
    "print(solver.ResponseStats())"
   ]
  }
 ],
 "metadata": {
  "kernelspec": {
   "display_name": "Python 3.10.5 ('webscraping')",
   "language": "python",
   "name": "python3"
  },
  "language_info": {
   "codemirror_mode": {
    "name": "ipython",
    "version": 3
   },
   "file_extension": ".py",
   "mimetype": "text/x-python",
   "name": "python",
   "nbconvert_exporter": "python",
   "pygments_lexer": "ipython3",
   "version": "3.10.5"
  },
  "orig_nbformat": 4,
  "vscode": {
   "interpreter": {
    "hash": "7a41dcd05efbd48bfcdfd7713256c5cd3709418c0a4fdd82ffc128e928590378"
   }
  }
 },
 "nbformat": 4,
 "nbformat_minor": 2
}
