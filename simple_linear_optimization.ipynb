{
 "cells": [
  {
   "cell_type": "code",
   "execution_count": 1,
   "metadata": {},
   "outputs": [],
   "source": [
    "from ortools.linear_solver import pywraplp\n"
   ]
  },
  {
   "cell_type": "code",
   "execution_count": 3,
   "metadata": {},
   "outputs": [],
   "source": [
    "# Create solver instance\n",
    "solver = pywraplp.Solver.CreateSolver('GLOP')"
   ]
  },
  {
   "cell_type": "code",
   "execution_count": 4,
   "metadata": {},
   "outputs": [],
   "source": [
    "# Declare relevant optimization variables\n",
    "# declares a variable x with lower bound 0 and no upper bound\n",
    "x = solver.NumVar(0, solver.infinity(), \"x\")\n",
    "y = solver.NumVar(0, solver.infinity(), \"y\")\n",
    "z = solver.NumVar(0, solver.infinity(), \"z\")"
   ]
  },
  {
   "cell_type": "code",
   "execution_count": 5,
   "metadata": {},
   "outputs": [],
   "source": [
    "# Add an objective to the solver\n",
    "objective = solver.Objective()\n",
    "\n",
    "#add terms to the objective\n",
    "objective.SetCoefficient(x, 1)\n",
    "objective.SetCoefficient(y, 2)\n",
    "objective.SetCoefficient(z, 3)\n",
    "# makes the objective function 1x + 2y + 3z\n",
    "\n",
    "#declare the problem as a maximization problem\n",
    "objective.SetMaximization()"
   ]
  },
  {
   "cell_type": "code",
   "execution_count": 6,
   "metadata": {},
   "outputs": [],
   "source": [
    "# Add constraints to the solver\n",
    "\n",
    "# 2x + y + z <= 20\n",
    "constraint = solver.Constraint(-solver.infinity(), 20) # no lb and ub is 20 inclusive\n",
    "constraint.SetCoefficient(x, 2)\n",
    "constraint.SetCoefficient(y, 1)\n",
    "constraint.SetCoefficient(z, 1)\n",
    "\n",
    "# x + y + z <= 15\n",
    "constraint = solver.Constraint(-solver.infinity(), 15)\n",
    "constraint.SetCoefficient(x, 1)\n",
    "constraint.SetCoefficient(y, 1)\n",
    "constraint.SetCoefficient(z, 1)\n",
    "\n",
    "# x - y - z >= 0\n",
    "constraint = solver.Constraint(0, solver.infinity())\n",
    "constraint.SetCoefficient(x, 1)\n",
    "constraint.SetCoefficient(y, -1)\n",
    "constraint.SetCoefficient(z, -1)"
   ]
  },
  {
   "cell_type": "code",
   "execution_count": 7,
   "metadata": {},
   "outputs": [
    {
     "data": {
      "text/plain": [
       "0"
      ]
     },
     "execution_count": 7,
     "metadata": {},
     "output_type": "execute_result"
    }
   ],
   "source": [
    "# Model is complete so can solve the problem\n",
    "solver.Solve()"
   ]
  },
  {
   "cell_type": "code",
   "execution_count": 9,
   "metadata": {},
   "outputs": [
    {
     "name": "stdout",
     "output_type": "stream",
     "text": [
      "x_opt 6.666666666666667\n",
      "y_opt 0.0\n",
      "z_opt 6.666666666666667\n"
     ]
    }
   ],
   "source": [
    "# see what the optimal solutions are for the variables\n",
    "print(\"x_opt\", x.solution_value())\n",
    "print(\"y_opt\", y.solution_value())\n",
    "print(\"z_opt\", z.solution_value())"
   ]
  },
  {
   "cell_type": "code",
   "execution_count": 10,
   "metadata": {},
   "outputs": [
    {
     "name": "stdout",
     "output_type": "stream",
     "text": [
      "optimal_value 26.666666666666668\n"
     ]
    }
   ],
   "source": [
    "# print the optimal value of the objective function\n",
    "optimal_value = x.solution_value() + 2*y.solution_value() + 3*z.solution_value()\n",
    "print('optimal_value', optimal_value)"
   ]
  },
  {
   "cell_type": "markdown",
   "metadata": {},
   "source": [
    "The rest of this is just me trying out some of the method to see how stuff works"
   ]
  }
 ],
 "metadata": {
  "kernelspec": {
   "display_name": "Python 3.10.5 ('webscraping')",
   "language": "python",
   "name": "python3"
  },
  "language_info": {
   "codemirror_mode": {
    "name": "ipython",
    "version": 3
   },
   "file_extension": ".py",
   "mimetype": "text/x-python",
   "name": "python",
   "nbconvert_exporter": "python",
   "pygments_lexer": "ipython3",
   "version": "3.10.5"
  },
  "orig_nbformat": 4,
  "vscode": {
   "interpreter": {
    "hash": "7a41dcd05efbd48bfcdfd7713256c5cd3709418c0a4fdd82ffc128e928590378"
   }
  }
 },
 "nbformat": 4,
 "nbformat_minor": 2
}
