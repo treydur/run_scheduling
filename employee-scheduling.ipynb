{
 "cells": [
  {
   "cell_type": "markdown",
   "metadata": {},
   "source": [
    "In the next example, a hospital supervisor needs to create a schedule for four nurses over a three-day period, subject to the following conditions:\n",
    "\n",
    "Each day is divided into three 8-hour shifts.\n",
    "Every day, each shift is assigned to a single nurse, and no nurse works more than one shift.\n",
    "Each nurse is assigned to at least two shifts during the three-day period.\n",
    "\n",
    "The following sections present a solution to the nurse scheduling problem."
   ]
  },
  {
   "cell_type": "code",
   "execution_count": 28,
   "metadata": {},
   "outputs": [],
   "source": [
    "from ortools.sat.python import cp_model"
   ]
  },
  {
   "cell_type": "markdown",
   "metadata": {},
   "source": [
    "### create data"
   ]
  },
  {
   "cell_type": "code",
   "execution_count": 29,
   "metadata": {},
   "outputs": [],
   "source": [
    "num_nurses = 4\n",
    "num_shifts = 3\n",
    "num_days = 3\n",
    "all_nurses = range(num_nurses)\n",
    "all_shifts = range(num_shifts)\n",
    "all_days = range(num_days)"
   ]
  },
  {
   "cell_type": "markdown",
   "metadata": {},
   "source": [
    "### create model"
   ]
  },
  {
   "cell_type": "code",
   "execution_count": 30,
   "metadata": {},
   "outputs": [],
   "source": [
    "model = cp_model.CpModel()"
   ]
  },
  {
   "cell_type": "markdown",
   "metadata": {},
   "source": [
    "### create an array of variables for the problem"
   ]
  },
  {
   "cell_type": "code",
   "execution_count": 31,
   "metadata": {},
   "outputs": [],
   "source": [
    "shifts = {}\n",
    "for n in all_nurses:\n",
    "    for d in all_days:\n",
    "        for s in all_shifts:\n",
    "            shifts[(n, d, s)] = model.NewBoolVar('shift_n%id%is%i' % (n, d, s))\n",
    "#   https://matthew-brett.github.io/teaching/string_formatting.html   \n",
    "# Talks about old school percent formatting to put values in variable\n",
    "# could've done normal way of model.NewBoolVar('shift_n{n}d{d}s{s})  \n",
    "# type(shifts[(0,0,1)]) #IntVar\n",
    "# shifts"
   ]
  },
  {
   "cell_type": "markdown",
   "metadata": {},
   "source": [
    "### Assign nurses to shifts\n",
    "Each shift is assigned to a single nurse per day"
   ]
  },
  {
   "cell_type": "code",
   "execution_count": 32,
   "metadata": {},
   "outputs": [],
   "source": [
    "for d in all_days:\n",
    "    for s in all_shifts:\n",
    "        model.AddExactlyOne(shifts[(n, d, s)] for n in all_nurses)\n",
    "        # model.Add(sum(shifts[(n,d,s)]) for n in all_nurses == 1) # same thing\n",
    "\n"
   ]
  },
  {
   "cell_type": "markdown",
   "metadata": {},
   "source": [
    "Each nurse works at most one shift per day"
   ]
  },
  {
   "cell_type": "code",
   "execution_count": 33,
   "metadata": {},
   "outputs": [],
   "source": [
    "for n in all_nurses:\n",
    "    for d in all_days:\n",
    "        model.AddAtMostOne(shifts[(n, d, s)] for s in all_shifts)"
   ]
  },
  {
   "cell_type": "markdown",
   "metadata": {},
   "source": [
    "Assign shifts evenly\n",
    "There are 9 shifts over the three day period, so we can assign two shifts to each of the four nurses. After that there will be one shift left over which can be assigned to any nurse.\n",
    "\n",
    "The following code ensures each nurse works at least two shifts in the three-day period"
   ]
  },
  {
   "cell_type": "code",
   "execution_count": 34,
   "metadata": {},
   "outputs": [],
   "source": [
    "# Try to distribute the shifts evenly, so that each nurse works \n",
    "# min_shifts_per_nurse shifts. If this is not possible, because the total\n",
    "# number of shifts is not divisible by the number of nurses, some nurses will be\n",
    "# assigned one more shift.\n",
    "min_shifts_per_nurse = (num_shifts * num_days) // num_nurses #// is floor division\n",
    "\n",
    "if num_shifts * num_days % num_nurses == 0:\n",
    "    max_shifts_per_nurse = min_shifts_per_nurse\n",
    "else:\n",
    "    max_shifts_per_nurse = min_shifts_per_nurse + 1\n",
    "\n",
    "for n in all_nurses:\n",
    "    num_shifts_worked = []\n",
    "    for d in all_days:\n",
    "        for s in all_shifts:\n",
    "            num_shifts_worked.append(shifts[(n, d, s)])\n",
    "    model.Add(min_shifts_per_nurse <= sum(num_shifts_worked))\n",
    "    model.Add(sum(num_shifts_worked) <= max_shifts_per_nurse)\n"
   ]
  },
  {
   "cell_type": "code",
   "execution_count": 35,
   "metadata": {},
   "outputs": [],
   "source": [
    "solver = cp_model.CpSolver()\n",
    "solver.parameters.linearization_level = 0\n",
    "# Enumerate all solutions.\n",
    "solver.parameters.enumerate_all_solutions = True"
   ]
  },
  {
   "cell_type": "code",
   "execution_count": 36,
   "metadata": {},
   "outputs": [],
   "source": [
    "#Register a solutions Callback\n",
    "class NursesPartialSolutionPrinter(cp_model.CpSolverSolutionCallback):\n",
    "    #print intermediate solutions\n",
    "    def __init__(self, shifts, num_nurses, num_days, num_shifts, limit):\n",
    "        cp_model.CpSolverSolutionCallback.__init__(self)\n",
    "        self._shifts = shifts\n",
    "        self._num_nurses = num_nurses\n",
    "        self._num_days = num_days\n",
    "        self._num_shifts = num_shifts\n",
    "        self._solution_count = 0\n",
    "        self._solution_limit = limit\n",
    "\n",
    "    def on_solution_callback(self):\n",
    "        self._solution_count += 1\n",
    "        print(f'Solution {self._solution_count}')\n",
    "        for d in range(self._num_days):\n",
    "            print(f'Day {d}')\n",
    "            for n in range(self._num_nurses):\n",
    "                is_working = False\n",
    "                for s in range(self._num_shifts):\n",
    "                    if self.Value(self._shifts[(n,d,s)]):\n",
    "                        is_working = True\n",
    "                        print(f' Nurse {n} works shift {s}')\n",
    "                if not is_working:\n",
    "                    print(f'Nurse {n} does not work')\n",
    "        if self._solution_count >= self._solution_limit:\n",
    "            print(f'Stop search after {self._solution_limit} solutions')\n",
    "            self.StopSearch()\n",
    "\n",
    "    def solution_count(self):\n",
    "        return self._solution_count"
   ]
  },
  {
   "cell_type": "code",
   "execution_count": 37,
   "metadata": {},
   "outputs": [],
   "source": [
    "# Display the first five solutions.\n",
    "solution_limit = 5\n",
    "solution_printer = NursesPartialSolutionPrinter(shifts, num_nurses, num_days, num_shifts, solution_limit)"
   ]
  },
  {
   "cell_type": "code",
   "execution_count": 38,
   "metadata": {},
   "outputs": [
    {
     "name": "stdout",
     "output_type": "stream",
     "text": [
      "Solution 1\n",
      "Day 0\n",
      "Nurse 0 does not work\n",
      " Nurse 1 works shift 0\n",
      " Nurse 2 works shift 1\n",
      " Nurse 3 works shift 2\n",
      "Day 1\n",
      " Nurse 0 works shift 2\n",
      "Nurse 1 does not work\n",
      " Nurse 2 works shift 1\n",
      " Nurse 3 works shift 0\n",
      "Day 2\n",
      " Nurse 0 works shift 2\n",
      " Nurse 1 works shift 1\n",
      " Nurse 2 works shift 0\n",
      "Nurse 3 does not work\n",
      "Solution 2\n",
      "Day 0\n",
      " Nurse 0 works shift 0\n",
      "Nurse 1 does not work\n",
      " Nurse 2 works shift 1\n",
      " Nurse 3 works shift 2\n",
      "Day 1\n",
      "Nurse 0 does not work\n",
      " Nurse 1 works shift 2\n",
      " Nurse 2 works shift 1\n",
      " Nurse 3 works shift 0\n",
      "Day 2\n",
      " Nurse 0 works shift 2\n",
      " Nurse 1 works shift 1\n",
      " Nurse 2 works shift 0\n",
      "Nurse 3 does not work\n",
      "Solution 3\n",
      "Day 0\n",
      " Nurse 0 works shift 0\n",
      "Nurse 1 does not work\n",
      " Nurse 2 works shift 1\n",
      " Nurse 3 works shift 2\n",
      "Day 1\n",
      " Nurse 0 works shift 1\n",
      " Nurse 1 works shift 2\n",
      "Nurse 2 does not work\n",
      " Nurse 3 works shift 0\n",
      "Day 2\n",
      " Nurse 0 works shift 2\n",
      " Nurse 1 works shift 1\n",
      " Nurse 2 works shift 0\n",
      "Nurse 3 does not work\n",
      "Solution 4\n",
      "Day 0\n",
      " Nurse 0 works shift 0\n",
      "Nurse 1 does not work\n",
      " Nurse 2 works shift 1\n",
      " Nurse 3 works shift 2\n",
      "Day 1\n",
      " Nurse 0 works shift 2\n",
      " Nurse 1 works shift 1\n",
      "Nurse 2 does not work\n",
      " Nurse 3 works shift 0\n",
      "Day 2\n",
      " Nurse 0 works shift 2\n",
      " Nurse 1 works shift 1\n",
      " Nurse 2 works shift 0\n",
      "Nurse 3 does not work\n",
      "Solution 5\n",
      "Day 0\n",
      "Nurse 0 does not work\n",
      " Nurse 1 works shift 0\n",
      " Nurse 2 works shift 1\n",
      " Nurse 3 works shift 2\n",
      "Day 1\n",
      " Nurse 0 works shift 2\n",
      " Nurse 1 works shift 1\n",
      "Nurse 2 does not work\n",
      " Nurse 3 works shift 0\n",
      "Day 2\n",
      " Nurse 0 works shift 2\n",
      " Nurse 1 works shift 1\n",
      " Nurse 2 works shift 0\n",
      "Nurse 3 does not work\n",
      "Stop search after 5 solutions\n"
     ]
    },
    {
     "data": {
      "text/plain": [
       "2"
      ]
     },
     "execution_count": 38,
     "metadata": {},
     "output_type": "execute_result"
    }
   ],
   "source": [
    "# Invoke the solver\n",
    "solver.Solve(model, solution_printer)"
   ]
  }
 ],
 "metadata": {
  "kernelspec": {
   "display_name": "Python 3.10.6 ('optimization')",
   "language": "python",
   "name": "python3"
  },
  "language_info": {
   "codemirror_mode": {
    "name": "ipython",
    "version": 3
   },
   "file_extension": ".py",
   "mimetype": "text/x-python",
   "name": "python",
   "nbconvert_exporter": "python",
   "pygments_lexer": "ipython3",
   "version": "3.10.6"
  },
  "orig_nbformat": 4,
  "vscode": {
   "interpreter": {
    "hash": "8f1cbdacf70e275f8979ec9134c2f48fa95e17ed810ccd285493ad466353d845"
   }
  }
 },
 "nbformat": 4,
 "nbformat_minor": 2
}
